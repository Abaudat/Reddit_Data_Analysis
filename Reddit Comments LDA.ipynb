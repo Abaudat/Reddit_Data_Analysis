{
 "cells": [
  {
   "cell_type": "markdown",
   "metadata": {},
   "source": [
    "# Reddit comments LDA"
   ]
  },
  {
   "cell_type": "code",
   "execution_count": 263,
   "metadata": {},
   "outputs": [
    {
     "name": "stderr",
     "output_type": "stream",
     "text": [
      "[nltk_data] Downloading package stopwords to\n",
      "[nltk_data]     C:\\Users\\granb\\AppData\\Roaming\\nltk_data...\n",
      "[nltk_data]   Package stopwords is already up-to-date!\n"
     ]
    },
    {
     "data": {
      "text/plain": [
       "True"
      ]
     },
     "execution_count": 263,
     "metadata": {},
     "output_type": "execute_result"
    }
   ],
   "source": [
    "from sklearn.decomposition import LatentDirichletAllocation\n",
    "from nltk.corpus import stopwords as stopwords\n",
    "from nltk.stem import PorterStemmer\n",
    "from nltk.stem import WordNetLemmatizer\n",
    "from sklearn.feature_extraction.text import CountVectorizer\n",
    "import numpy as np\n",
    "import pandas as pd\n",
    "import praw\n",
    "import string\n",
    "nltk.download('stopwords')"
   ]
  },
  {
   "cell_type": "code",
   "execution_count": 171,
   "metadata": {},
   "outputs": [],
   "source": [
    "reddit = praw.Reddit(client_id=\"\", client_secret=\"\", user_agent=\"PRAW:LDA:0.1\")"
   ]
  },
  {
   "cell_type": "code",
   "execution_count": 428,
   "metadata": {},
   "outputs": [],
   "source": [
    "def LDA_comments(username):\n",
    "    me = reddit.redditor(username)\n",
    "    l = list(me.comments.new(limit=None))\n",
    "    bodies = []\n",
    "    MIN_LENGTH = 50\n",
    "    for comment in l:\n",
    "        if len(comment.body) > MIN_LENGTH:\n",
    "            bodies.append(comment.body)\n",
    "    print(\"Number of comments: {}.\\nNumber of valid comments (length > {}): {}\\n\".format(len(l), MIN_LENGTH, len(bodies)))\n",
    "    vectorizer = CountVectorizer(strip_accents='unicode', stop_words=stopwords, analyzer='word')\n",
    "    data = vectorizer.fit_transform(bodies)\n",
    "    lda = LatentDirichletAllocation(n_components=7, doc_topic_prior=1.05, topic_word_prior=1.75, random_state=42)\n",
    "    lda = lda.fit(data)\n",
    "    feature_names = vectorizer.get_feature_names()\n",
    "    for index, topic in enumerate(lda.components_):\n",
    "        best_words = np.argsort(topic)[::-1][:10]\n",
    "        word_agg = \"\"\n",
    "        for word in best_words:\n",
    "            word_agg += feature_names[word] + \", \"\n",
    "        print(\"Topic {}: {}\".format(index + 1, word_agg[:-2]))"
   ]
  },
  {
   "cell_type": "code",
   "execution_count": 429,
   "metadata": {},
   "outputs": [
    {
     "name": "stdout",
     "output_type": "stream",
     "text": [
      "Number of comments: 995.\n",
      "Number of valid comments (length > 50): 656\n",
      "\n",
      "Topic 1: side, clones, blue, fix, would, lane, tag, price, right, bush\n",
      "Topic 2: game, get, one, even, time, would, play, like, cards, make\n",
      "Topic 3: server, client, work, clients, attack, send, port, master, one, problem\n",
      "Topic 4: node, book, board, page, nodes, ground, know, makes, entry, request\n",
      "Topic 5: size, redditor, news, reading, element, stopped, title, character, please, bibibis\n",
      "Topic 6: fucking, shit, little, top, think, entire, fuck, comment, know, usa\n",
      "Topic 7: wyrm, conceal, spells, otk, mana, auctioneer, summons, 118, call, wild\n"
     ]
    }
   ],
   "source": [
    "LDA_comments('')"
   ]
  }
 ],
 "metadata": {
  "kernelspec": {
   "display_name": "Python 3",
   "language": "python",
   "name": "python3"
  },
  "language_info": {
   "codemirror_mode": {
    "name": "ipython",
    "version": 3
   },
   "file_extension": ".py",
   "mimetype": "text/x-python",
   "name": "python",
   "nbconvert_exporter": "python",
   "pygments_lexer": "ipython3",
   "version": "3.7.3"
  }
 },
 "nbformat": 4,
 "nbformat_minor": 2
}
