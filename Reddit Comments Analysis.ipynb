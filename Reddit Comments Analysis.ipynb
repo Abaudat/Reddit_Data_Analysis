{
 "cells": [
  {
   "cell_type": "code",
   "execution_count": 188,
   "metadata": {},
   "outputs": [
    {
     "name": "stderr",
     "output_type": "stream",
     "text": [
      "[nltk_data] Downloading package stopwords to\n",
      "[nltk_data]     C:\\Users\\granb\\AppData\\Roaming\\nltk_data...\n",
      "[nltk_data]   Package stopwords is already up-to-date!\n"
     ]
    }
   ],
   "source": [
    "from sklearn.decomposition import LatentDirichletAllocation\n",
    "from nltk.corpus import stopwords as stopwords\n",
    "from nltk.stem import PorterStemmer\n",
    "from nltk.stem import WordNetLemmatizer\n",
    "from sklearn.feature_extraction.text import CountVectorizer\n",
    "from collections import Counter\n",
    "from datetime import datetime\n",
    "from matplotlib.pyplot import figure\n",
    "from pandas.plotting import register_matplotlib_converters\n",
    "import numpy as np\n",
    "import pandas as pd\n",
    "import matplotlib.pyplot as plt\n",
    "import praw\n",
    "import string\n",
    "import nltk\n",
    "import math\n",
    "nltk.download('stopwords')\n",
    "register_matplotlib_converters()"
   ]
  },
  {
   "cell_type": "markdown",
   "metadata": {},
   "source": [
    "# Fetching comments"
   ]
  },
  {
   "cell_type": "code",
   "execution_count": 22,
   "metadata": {},
   "outputs": [],
   "source": [
    "reddit = praw.Reddit(client_id=\"\", client_secret=\"\", user_agent=\"PRAW:LDA:0.1\")"
   ]
  },
  {
   "cell_type": "code",
   "execution_count": 23,
   "metadata": {},
   "outputs": [],
   "source": [
    "def get_comments(username):\n",
    "    user = reddit.redditor(username)\n",
    "    return list(user.comments.new(limit=None))"
   ]
  },
  {
   "cell_type": "markdown",
   "metadata": {},
   "source": [
    "# Reddit comments LDA"
   ]
  },
  {
   "cell_type": "markdown",
   "metadata": {},
   "source": [
    "### Defining stopwords"
   ]
  },
  {
   "cell_type": "code",
   "execution_count": 209,
   "metadata": {},
   "outputs": [],
   "source": [
    "stop_words = stopwords.words('english')\n",
    "web_stopwords = ['www', 'http', 'https', 'com', 'org', 'jpg']\n",
    "stop_words.extend(web_stopwords)"
   ]
  },
  {
   "cell_type": "markdown",
   "metadata": {},
   "source": [
    "### Latent Dirichlet Allocation"
   ]
  },
  {
   "cell_type": "code",
   "execution_count": 207,
   "metadata": {},
   "outputs": [],
   "source": [
    "def LDA_comments(comments, n_topics=None, doc_prior=None, topic_prior=None):\n",
    "    bodies = []\n",
    "    MIN_LENGTH = 50\n",
    "    for comment in comments:\n",
    "        if len(comment.body) > MIN_LENGTH:\n",
    "            bodies.append(comment.body)\n",
    "    n_lda_comments = len(bodies)\n",
    "    print(\"Number of comments: {}.\\nNumber of valid comments for LDA (length > {}): {}\\n\".format(len(comments), MIN_LENGTH, n_lda_comments))\n",
    "    if n_topics == None:\n",
    "        n_topics = max(5, math.floor(n_lda_comments/100))\n",
    "    if doc_prior == None:\n",
    "        doc_prior = 50/n_topics\n",
    "    if topic_prior == None:\n",
    "        topic_prior = 0.1\n",
    "    vectorizer = CountVectorizer(strip_accents='unicode', stop_words=stop_words, analyzer='word')\n",
    "    data = vectorizer.fit_transform(bodies)\n",
    "    lda = LatentDirichletAllocation(n_components=n_topics, doc_topic_prior=doc_prior, topic_word_prior=topic_prior, random_state=42)\n",
    "    lda = lda.fit(data)\n",
    "    feature_names = vectorizer.get_feature_names()\n",
    "    for index, topic in enumerate(lda.components_):\n",
    "        best_words = np.argsort(topic)[::-1][:10]\n",
    "        word_agg = \"\"\n",
    "        for word in best_words:\n",
    "            word_agg += feature_names[word] + \", \"\n",
    "        print(\"Topic {}: {}\".format(index + 1, word_agg[:-2]))\n",
    "    print(\"\\n\")"
   ]
  },
  {
   "cell_type": "markdown",
   "metadata": {},
   "source": [
    "# Per week comment histogram"
   ]
  },
  {
   "cell_type": "code",
   "execution_count": 33,
   "metadata": {},
   "outputs": [],
   "source": [
    "def comments_histogram(comments, username):\n",
    "    times = []\n",
    "    TIME_QUANTUM = 60*60*24*7\n",
    "    for comment in comments:\n",
    "        times.append(comment.created_utc)\n",
    "    minimum = min(times)\n",
    "    reduced = []\n",
    "    for time in times:\n",
    "        reduced.append(datetime.fromtimestamp(TIME_QUANTUM*math.floor(time/TIME_QUANTUM)))\n",
    "    counter = Counter(reduced)\n",
    "    plt.subplots(figsize=(18,5))\n",
    "    plt.bar(counter.keys(), counter.values(), width=5)\n",
    "    plt.title(\"Histogram of {} comments for Reddit user /u/{}\".format(len(comments),username))\n",
    "    plt.xlabel(\"Date\")\n",
    "    plt.ylabel(\"Number of weekly comments\")\n",
    "    plt.show()"
   ]
  },
  {
   "cell_type": "markdown",
   "metadata": {},
   "source": [
    "# Daily comments posting times"
   ]
  },
  {
   "cell_type": "code",
   "execution_count": 42,
   "metadata": {},
   "outputs": [],
   "source": [
    "def daily_comments_histogram(comments, username, utc_diff=1):\n",
    "    times = []\n",
    "    TIME_QUANTUM = 60*60\n",
    "    for comment in comments:\n",
    "        times.append(comment.created_utc)\n",
    "    minimum = min(times)\n",
    "    reduced = []\n",
    "    for time in times:\n",
    "        reduced.append((math.floor(time%(60*60*24)/TIME_QUANTUM)+utc_diff)%24)\n",
    "    counter = Counter(reduced)\n",
    "    plt.subplots(figsize=(18,5))\n",
    "    plt.bar(counter.keys(), counter.values())\n",
    "    plt.xticks([x for x in range(24)], [\"{}:00\".format(x) for x in range(24)])\n",
    "    plt.title(\"Time of the day of {} comments for Reddit user /u/{}\".format(len(comments),username))\n",
    "    plt.xlabel(\"Hour in UTC+{}\".format(utc_diff))\n",
    "    plt.ylabel(\"Number of comments during hour\")\n",
    "    plt.show()"
   ]
  },
  {
   "cell_type": "markdown",
   "metadata": {},
   "source": [
    "# Most frequented subreddits"
   ]
  },
  {
   "cell_type": "code",
   "execution_count": 96,
   "metadata": {},
   "outputs": [],
   "source": [
    "def most_frequented_subreddits(comments, username):\n",
    "    subreddits = []\n",
    "    for comment in comments:\n",
    "        subreddits.append(comment.subreddit_id)\n",
    "    counter = Counter(subreddits)\n",
    "    most_common = counter.most_common(10)\n",
    "    subs = list(map(lambda x: \"/r/\" + x.display_name, reddit.info(list(list(zip(*most_common))[0]))))\n",
    "    coms = list(zip(*most_common))[1]\n",
    "    plt.subplots(figsize=(18,5))\n",
    "    plt.bar(subs, coms)\n",
    "    plt.title(\"Most frequenly used subreddits for Reddit user /u/{}\".format(username))\n",
    "    plt.xlabel(\"Subreddit\")\n",
    "    plt.ylabel(\"Number of comments\")\n",
    "    plt.show()"
   ]
  },
  {
   "cell_type": "markdown",
   "metadata": {},
   "source": [
    "# Most used words"
   ]
  },
  {
   "cell_type": "code",
   "execution_count": 194,
   "metadata": {},
   "outputs": [],
   "source": [
    "def most_used_words(comments):\n",
    "    bodies = []\n",
    "    for comment in comments:\n",
    "        bodies.append(comment.body)\n",
    "    vectorizer = CountVectorizer(strip_accents='unicode', stop_words=stop_words, analyzer='word')\n",
    "    data = vectorizer.fit_transform(bodies)\n",
    "    sum_words = data.sum(axis=0)\n",
    "    words_freq = [(word, sum_words[0, idx]) for idx, word in enumerate(vectorizer.get_feature_names())]\n",
    "    words_freq = sorted(words_freq, key = lambda x: x[1], reverse=True)[:10]\n",
    "    word_agg = \"\"\n",
    "    for word_freq in words_freq:\n",
    "        word_agg += \"{} ({} times), \".format(word_freq[0].capitalize(), word_freq[1])\n",
    "    print(\"Top 10 most used words: {}\\n\".format(word_agg[:-2]))"
   ]
  },
  {
   "cell_type": "markdown",
   "metadata": {},
   "source": [
    "# Scores analysis"
   ]
  },
  {
   "cell_type": "code",
   "execution_count": 256,
   "metadata": {},
   "outputs": [],
   "source": [
    "def analyze_scores(comments):\n",
    "    scores = []\n",
    "    for comment in comments:\n",
    "        scores.append(comment.score)\n",
    "    best_scores = np.argsort(scores)[::-1]\n",
    "    comment = comments[best_scores[0]]\n",
    "    print(\"- Best comment: {} ({} points, submitted to /r/{})\\n\".format(comment.body, comment.score, comment.subreddit.display_name))\n",
    "    comment = comments[best_scores[-1]]\n",
    "    print(\"- Worst comment: {} ({} points, submitted to /r/{})\\n\".format(comment.body, comment.score, comment.subreddit.display_name))\n",
    "    print(\"Average comment score: {:.2f}\\n\".format(np.mean(scores)))"
   ]
  },
  {
   "cell_type": "markdown",
   "metadata": {},
   "source": [
    "# Putting it together"
   ]
  },
  {
   "cell_type": "code",
   "execution_count": 257,
   "metadata": {},
   "outputs": [],
   "source": [
    "def analyze(username):\n",
    "    comments = get_comments(username)\n",
    "    LDA_comments(comments)\n",
    "    analyze_scores(comments)\n",
    "    most_used_words(comments)\n",
    "    most_frequented_subreddits(comments, username)\n",
    "    comments_histogram(comments, username)\n",
    "    daily_comments_histogram(comments, username)"
   ]
  },
  {
   "cell_type": "code",
   "execution_count": 259,
   "metadata": {},
   "outputs": [
    {
     "name": "stdout",
     "output_type": "stream",
     "text": [
      "Number of comments: 1000.\n",
      "Number of valid comments for LDA (length > 50): 725\n",
      "\n",
      "Topic 1: team, rb, get, wr, ppr, 10, cmc, give, allen, order\n",
      "Topic 2: cohen, trump, edit, mueller, jones, manafort, 2016, russian, intelligence, one\n",
      "Topic 3: trump, also, see, said, like, back, public, time, justice, campaign\n",
      "Topic 4: trump, like, russia, us, move, committee, think, taking, personally, action\n",
      "Topic 5: team, white, ppr, would, house, 10, cmc, rb, depth, get\n",
      "Topic 6: team, week, ppr, dj, allen, obj, 10, howard, boyd, baldwin\n",
      "Topic 7: one, judge, mueller, company, investigation, prosecutors, fine, team, asked, years\n",
      "\n",
      "\n",
      "- Best comment: >If the bill goes on to pass in the Assembly, providers will no longer be able to obtain government contracts in the state of California without obeying the regulations.  \n",
      "  \n",
      "Hopefully this makes it through and becomes a trend amongst other states.\n",
      "\n",
      " (10020 points, submitted to /r/news)\n",
      "\n",
      "- Worst comment: >At one point, as the letter of intent was passed back and forth during the negotiations, the Trump Organization changed an upfront fee from $100,000 to $900,000. On Oct. 28, 2015, the day of the third Republican presidential debate, Trump personally signed the letter of intent.  \n",
      "  \n",
      "Boom. Trump working with Moscow/Sater whilst in the election process. (-2 points, submitted to /r/worldnews)\n",
      "\n",
      "Average comment score: 139.94\n",
      "\n",
      "Top 10 most used words: Team (155 times), Ppr (125 times), 10 (107 times), Trump (104 times), Get (100 times), Like (94 times), Rb (86 times), Allen (85 times), Cmc (85 times), Week (84 times)\n",
      "\n"
     ]
    },
    {
     "data": {
      "image/png": "[encoded data removed]",
      "text/plain": [
       "<Figure size 1296x360 with 1 Axes>"
      ]
     },
     "metadata": {
      "needs_background": "light"
     },
     "output_type": "display_data"
    },
    {
     "data": {
      "image/png": "[encoded data removed]",
      "text/plain": [
       "<Figure size 1296x360 with 1 Axes>"
      ]
     },
     "metadata": {
      "needs_background": "light"
     },
     "output_type": "display_data"
    },
    {
     "data": {
      "image/png": "[encoded data removed]",
      "text/plain": [
       "<Figure size 1296x360 with 1 Axes>"
      ]
     },
     "metadata": {
      "needs_background": "light"
     },
     "output_type": "display_data"
    }
   ],
   "source": [
    "analyze('mvanigan')"
   ]
  }
 ],
 "metadata": {
  "kernelspec": {
   "display_name": "Python 3",
   "language": "python",
   "name": "python3"
  },
  "language_info": {
   "codemirror_mode": {
    "name": "ipython",
    "version": 3
   },
   "file_extension": ".py",
   "mimetype": "text/x-python",
   "name": "python",
   "nbconvert_exporter": "python",
   "pygments_lexer": "ipython3",
   "version": "3.7.3"
  }
 },
 "nbformat": 4,
 "nbformat_minor": 2
}
