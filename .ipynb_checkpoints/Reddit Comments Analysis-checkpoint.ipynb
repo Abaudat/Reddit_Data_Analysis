{
 "cells": [
  {
   "cell_type": "code",
   "execution_count": 15,
   "metadata": {},
   "outputs": [
    {
     "name": "stderr",
     "output_type": "stream",
     "text": [
      "[nltk_data] Downloading package stopwords to\n",
      "[nltk_data]     C:\\Users\\granb\\AppData\\Roaming\\nltk_data...\n",
      "[nltk_data]   Package stopwords is already up-to-date!\n"
     ]
    }
   ],
   "source": [
    "from sklearn.decomposition import LatentDirichletAllocation\n",
    "from nltk.corpus import stopwords as stopwords\n",
    "from nltk.stem import PorterStemmer\n",
    "from nltk.stem import WordNetLemmatizer\n",
    "from sklearn.feature_extraction.text import CountVectorizer\n",
    "from collections import Counter\n",
    "from datetime import datetime\n",
    "from matplotlib.pyplot import figure\n",
    "from pandas.plotting import register_matplotlib_converters\n",
    "import numpy as np\n",
    "import pandas as pd\n",
    "import matplotlib.pyplot as plt\n",
    "import praw\n",
    "import string\n",
    "import nltk\n",
    "import math\n",
    "nltk.download('stopwords')\n",
    "register_matplotlib_converters()"
   ]
  },
  {
   "cell_type": "markdown",
   "metadata": {},
   "source": [
    "# Reddit comments LDA"
   ]
  },
  {
   "cell_type": "code",
   "execution_count": 4,
   "metadata": {},
   "outputs": [],
   "source": [
    "reddit = praw.Reddit(client_id=\"\", client_secret=\"\", user_agent=\"PRAW:LDA:0.1\")"
   ]
  },
  {
   "cell_type": "code",
   "execution_count": 8,
   "metadata": {},
   "outputs": [],
   "source": [
    "def LDA_comments(username):\n",
    "    me = reddit.redditor(username)\n",
    "    l = list(me.comments.new(limit=None))\n",
    "    bodies = []\n",
    "    MIN_LENGTH = 50\n",
    "    for comment in l:\n",
    "        if len(comment.body) > MIN_LENGTH:\n",
    "            bodies.append(comment.body)\n",
    "    print(\"Number of comments: {}.\\nNumber of valid comments (length > {}): {}\\n\".format(len(l), MIN_LENGTH, len(bodies)))\n",
    "    vectorizer = CountVectorizer(strip_accents='unicode', stop_words=stopwords.words('english'), analyzer='word')\n",
    "    data = vectorizer.fit_transform(bodies)\n",
    "    lda = LatentDirichletAllocation(n_components=7, doc_topic_prior=1.05, topic_word_prior=1.75, random_state=42)\n",
    "    lda = lda.fit(data)\n",
    "    feature_names = vectorizer.get_feature_names()\n",
    "    for index, topic in enumerate(lda.components_):\n",
    "        best_words = np.argsort(topic)[::-1][:10]\n",
    "        word_agg = \"\"\n",
    "        for word in best_words:\n",
    "            word_agg += feature_names[word] + \", \"\n",
    "        print(\"Topic {}: {}\".format(index + 1, word_agg[:-2]))"
   ]
  },
  {
   "cell_type": "code",
   "execution_count": 9,
   "metadata": {
    "scrolled": true
   },
   "outputs": [
    {
     "name": "stdout",
     "output_type": "stream",
     "text": [
      "Number of comments: 995.\n",
      "Number of valid comments (length > 50): 656\n",
      "\n",
      "Topic 1: side, clones, fix, blue, lane, would, tag, right, bush, better\n",
      "Topic 2: game, get, one, even, time, would, play, like, cards, make\n",
      "Topic 3: server, client, work, clients, send, problem, attack, port, master, one\n",
      "Topic 4: eth, node, price, book, board, stop, page, order, nodes, ground\n",
      "Topic 5: character, size, redditor, news, reading, element, please, title, stopped, posts\n",
      "Topic 6: fucking, little, shit, top, think, entire, usa, fuck, comment, know\n",
      "Topic 7: wyrm, conceal, spells, otk, summons, 118, call, auctioneer, mana, wild\n"
     ]
    }
   ],
   "source": [
    "LDA_comments('Bibibis')"
   ]
  },
  {
   "cell_type": "markdown",
   "metadata": {},
   "source": [
    "# Per week comment histogram"
   ]
  },
  {
   "cell_type": "code",
   "execution_count": 17,
   "metadata": {},
   "outputs": [],
   "source": [
    "def comments_histogram(username):\n",
    "    me = reddit.redditor(username)\n",
    "    l = list(me.comments.new(limit=None))\n",
    "    times = []\n",
    "    TIME_QUANTUM = 60*60*24*7\n",
    "    for comment in l:\n",
    "        times.append(comment.created_utc)\n",
    "    minimum = min(times)\n",
    "    reduced = []\n",
    "    for time in times:\n",
    "        reduced.append(datetime.fromtimestamp(TIME_QUANTUM*math.floor(time/TIME_QUANTUM)))\n",
    "    counter = Counter(reduced)\n",
    "    plt.subplots(figsize=(18,5))\n",
    "    plt.bar(counter.keys(), counter.values(), width=5)\n",
    "    plt.title(\"Histogram of comments for Reddit user /u/{}\".format(username))\n",
    "    plt.xlabel(\"Date\")\n",
    "    plt.ylabel(\"Number of weekly comments\")\n",
    "    plt.show()"
   ]
  },
  {
   "cell_type": "code",
   "execution_count": 18,
   "metadata": {},
   "outputs": [
    {
     "data": {
      "image/png": "[encoded data removed]",
      "text/plain": [
       "<Figure size 1296x360 with 1 Axes>"
      ]
     },
     "metadata": {
      "needs_background": "light"
     },
     "output_type": "display_data"
    }
   ],
   "source": [
    "comments_histogram('Bibibis')"
   ]
  }
 ],
 "metadata": {
  "kernelspec": {
   "display_name": "Python 3",
   "language": "python",
   "name": "python3"
  },
  "language_info": {
   "codemirror_mode": {
    "name": "ipython",
    "version": 3
   },
   "file_extension": ".py",
   "mimetype": "text/x-python",
   "name": "python",
   "nbconvert_exporter": "python",
   "pygments_lexer": "ipython3",
   "version": "3.7.3"
  }
 },
 "nbformat": 4,
 "nbformat_minor": 2
}
