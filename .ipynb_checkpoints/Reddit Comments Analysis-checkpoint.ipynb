{
 "cells": [
  {
   "cell_type": "code",
   "execution_count": 148,
   "metadata": {},
   "outputs": [
    {
     "name": "stderr",
     "output_type": "stream",
     "text": [
      "[nltk_data] Downloading package stopwords to\n",
      "[nltk_data]     C:\\Users\\granb\\AppData\\Roaming\\nltk_data...\n",
      "[nltk_data]   Package stopwords is already up-to-date!\n"
     ]
    }
   ],
   "source": [
    "from sklearn.decomposition import LatentDirichletAllocation\n",
    "from nltk.corpus import stopwords as stopwords\n",
    "from nltk.stem import PorterStemmer\n",
    "from nltk.stem import WordNetLemmatizer\n",
    "from sklearn.feature_extraction.text import CountVectorizer\n",
    "from collections import Counter\n",
    "from datetime import datetime\n",
    "from matplotlib.pyplot import figure\n",
    "from pandas.plotting import register_matplotlib_converters\n",
    "from PIL import Image\n",
    "from imgurpython import ImgurClient\n",
    "import sys\n",
    "import numpy as np\n",
    "import pandas as pd\n",
    "import matplotlib.pyplot as plt\n",
    "import praw\n",
    "import string\n",
    "import nltk\n",
    "import math\n",
    "nltk.download('stopwords')\n",
    "register_matplotlib_converters()"
   ]
  },
  {
   "cell_type": "markdown",
   "metadata": {},
   "source": [
    "# Access tokens"
   ]
  },
  {
   "cell_type": "markdown",
   "metadata": {},
   "source": [
    "Access tokens for the various services that are used in the Notbook. To get you own, please visit [this page for Reddit client id, secret and user agent](https://github.com/reddit-archive/reddit/wiki/OAuth2-Quick-Start-Example#first-steps) and [this page for imgur client id, client secret, access toekn and refresh token](https://apidocs.imgur.com/?version=latest)."
   ]
  },
  {
   "cell_type": "code",
   "execution_count": 261,
   "metadata": {},
   "outputs": [],
   "source": [
    "reddit_client_id = \"\"\n",
    "reddit_client_secret = \"\"\n",
    "reddit_username = \"\"\n",
    "reddit_password = \"\"\n",
    "reddit_user_agent = \"\"\n",
    "imgur_client_id = \"\"\n",
    "imgur_client_secret = \"\"\n",
    "imgur_access_token = \"\"\n",
    "imgur_refresh_token = \"\""
   ]
  },
  {
   "cell_type": "markdown",
   "metadata": {},
   "source": [
    "# Creating Imgur client"
   ]
  },
  {
   "cell_type": "markdown",
   "metadata": {},
   "source": [
    "Creates an Imgur client that will allow us to upload our images. This is done using [imgurpython](https://github.com/Imgur/imgurpython)."
   ]
  },
  {
   "cell_type": "code",
   "execution_count": 163,
   "metadata": {},
   "outputs": [],
   "source": [
    "client = ImgurClient(imgur_client_id, imgur_client_secret, imgur_access_token, imgur_refresh_token)"
   ]
  },
  {
   "cell_type": "markdown",
   "metadata": {},
   "source": [
    "# Creating a Reddit instance"
   ]
  },
  {
   "cell_type": "markdown",
   "metadata": {},
   "source": [
    "This Reddit instance is what we will use to interact with Reddit, this is created using [PRAW](https://praw.readthedocs.io/en/latest/index.html)."
   ]
  },
  {
   "cell_type": "code",
   "execution_count": 164,
   "metadata": {},
   "outputs": [],
   "source": [
    "reddit = praw.Reddit(client_id=reddit_client_id, client_secret=reddit_client_secret, user_agent=reddit_user_agent\n",
    "                    ,username=reddit_username, password=reddit_password)"
   ]
  },
  {
   "cell_type": "markdown",
   "metadata": {},
   "source": [
    "# Fetching comments"
   ]
  },
  {
   "cell_type": "markdown",
   "metadata": {},
   "source": [
    "Gets the 1000 latest comments for a given username. That number is a restriction of the Reddit API and it is currently impossible to get more than 1000 comments."
   ]
  },
  {
   "cell_type": "code",
   "execution_count": 283,
   "metadata": {},
   "outputs": [],
   "source": [
    "def get_comments(username):\n",
    "    user = reddit.redditor(username)\n",
    "    comment_list = list(user.comments.new(limit=None))\n",
    "    output = \"|Number of comments for {}:|{} (max 1000)|\\n\".format(username, len(comment_list))\n",
    "    return output, comment_list"
   ]
  },
  {
   "cell_type": "markdown",
   "metadata": {},
   "source": [
    "# Reddit comments LDA"
   ]
  },
  {
   "cell_type": "markdown",
   "metadata": {},
   "source": [
    "### Defining stopwords"
   ]
  },
  {
   "cell_type": "markdown",
   "metadata": {},
   "source": [
    "We use the stopwords from [NTLK](https://www.nltk.org/), but we need to add several stopwords so that the data for users that share a lot of links is not compromised."
   ]
  },
  {
   "cell_type": "code",
   "execution_count": 4,
   "metadata": {},
   "outputs": [],
   "source": [
    "stop_words = stopwords.words('english')\n",
    "web_stopwords = ['www', 'http', 'https', 'com', 'org', 'jpg']\n",
    "stop_words.extend(web_stopwords)"
   ]
  },
  {
   "cell_type": "markdown",
   "metadata": {},
   "source": [
    "### Latent Dirichlet Allocation"
   ]
  },
  {
   "cell_type": "markdown",
   "metadata": {},
   "source": [
    "Does a [LDA](https://en.wikipedia.org/wiki/Latent_Dirichlet_allocation) of the user comments. We only use the $n$ comments longer than 50 characters to respect the assumption of many words per document. The hyperparameters are chosen as follows: Number of topics is chosen as $k=\\max(3,\\lfloor\\frac{n}{100}\\rfloor)$, the document topic prior is chosen as $\\frac{50}{k}$ and the prior of the word per topic is chosen as $0.1$. The doc prior and topic prior are chosen following [Griffiths et al.](http://psiexp.ss.uci.edu/research/papers/sciencetopics.pdf).\n",
    "\n",
    "The LDA is done using [sklearn's LDA implementation](https://scikit-learn.org/stable/modules/generated/sklearn.decomposition.LatentDirichletAllocation.html) and the data is tokenized using [sklearn's CountVectorized](https://scikit-learn.org/stable/modules/generated/sklearn.feature_extraction.text.CountVectorizer.html) with the stopwords defined above."
   ]
  },
  {
   "cell_type": "code",
   "execution_count": 287,
   "metadata": {},
   "outputs": [],
   "source": [
    "def LDA_comments(comments, n_topics=None, doc_prior=None, topic_prior=None):\n",
    "    output = \"\"\n",
    "    bodies = []\n",
    "    MIN_LENGTH = 50\n",
    "    for comment in comments:\n",
    "        if len(comment.body) > MIN_LENGTH:\n",
    "            bodies.append(comment.body)\n",
    "    n_lda_comments = len(bodies)\n",
    "    output += \"|Latent Dirichlet Allocation of {} comments (length > {}):||\\n\".format(n_lda_comments, MIN_LENGTH)\n",
    "    if n_topics == None:\n",
    "        n_topics = max(3, math.floor(n_lda_comments/100))\n",
    "    if doc_prior == None:\n",
    "        doc_prior = 50/n_topics\n",
    "    if topic_prior == None:\n",
    "        topic_prior = 0.1\n",
    "    vectorizer = CountVectorizer(strip_accents='unicode', stop_words=stop_words, analyzer='word')\n",
    "    data = vectorizer.fit_transform(bodies)\n",
    "    lda = LatentDirichletAllocation(n_components=n_topics, doc_topic_prior=doc_prior, topic_word_prior=topic_prior, random_state=42)\n",
    "    lda = lda.fit(data)\n",
    "    feature_names = vectorizer.get_feature_names()\n",
    "    for index, topic in enumerate(lda.components_):\n",
    "        best_words = np.argsort(topic)[::-1][:10]\n",
    "        word_agg = \"\"\n",
    "        for word in best_words:\n",
    "            word_agg += feature_names[word] + \", \"\n",
    "        output += \"||Topic {}: {}|\\n\".format(index + 1, word_agg[:-2])\n",
    "    output += \"\\n\"\n",
    "    return output"
   ]
  },
  {
   "cell_type": "markdown",
   "metadata": {},
   "source": [
    "# Per week comment histogram"
   ]
  },
  {
   "cell_type": "markdown",
   "metadata": {},
   "source": [
    "Creates a histogram of the number of comments of the user per week."
   ]
  },
  {
   "cell_type": "code",
   "execution_count": 126,
   "metadata": {},
   "outputs": [],
   "source": [
    "def comments_histogram(comments, username):\n",
    "    times = []\n",
    "    TIME_QUANTUM = 60*60*24*7\n",
    "    for comment in comments:\n",
    "        times.append(comment.created_utc)\n",
    "    minimum = min(times)\n",
    "    reduced = []\n",
    "    for time in times:\n",
    "        reduced.append(datetime.fromtimestamp(TIME_QUANTUM*math.floor(time/TIME_QUANTUM)))\n",
    "    counter = Counter(reduced)\n",
    "    plt.subplots(figsize=(18,5))\n",
    "    plt.bar(counter.keys(), counter.values(), width=5)\n",
    "    plt.title(\"Histogram of {} comments for Reddit user /u/{}\".format(len(comments),username))\n",
    "    plt.xlabel(\"Date\")\n",
    "    plt.ylabel(\"Number of weekly comments\")\n",
    "    plt.savefig(\"per_week.jpg\")"
   ]
  },
  {
   "cell_type": "markdown",
   "metadata": {},
   "source": [
    "# Daily comments posting times"
   ]
  },
  {
   "cell_type": "markdown",
   "metadata": {},
   "source": [
    "Creates a histogram of the number of comments of the user for each hour of the day."
   ]
  },
  {
   "cell_type": "code",
   "execution_count": 127,
   "metadata": {},
   "outputs": [],
   "source": [
    "def daily_comments_histogram(comments, username, utc_diff=1):\n",
    "    times = []\n",
    "    TIME_QUANTUM = 60*60\n",
    "    for comment in comments:\n",
    "        times.append(comment.created_utc)\n",
    "    minimum = min(times)\n",
    "    reduced = []\n",
    "    for time in times:\n",
    "        reduced.append((math.floor(time%(60*60*24)/TIME_QUANTUM)+utc_diff)%24)\n",
    "    counter = Counter(reduced)\n",
    "    plt.subplots(figsize=(18,5))\n",
    "    plt.bar(counter.keys(), counter.values())\n",
    "    plt.xticks([x for x in range(24)], [\"{}:00\".format(x) for x in range(24)])\n",
    "    plt.title(\"Time of the day of {} comments for Reddit user /u/{}\".format(len(comments),username))\n",
    "    plt.xlabel(\"Hour in UTC{:+}\".format(utc_diff))\n",
    "    plt.ylabel(\"Number of comments during hour\")\n",
    "    plt.savefig(\"hourly.jpg\")"
   ]
  },
  {
   "cell_type": "markdown",
   "metadata": {},
   "source": [
    "# Most frequented subreddits"
   ]
  },
  {
   "cell_type": "markdown",
   "metadata": {},
   "source": [
    "Creates a histogram of the 10 most commented to subreddits by the user."
   ]
  },
  {
   "cell_type": "code",
   "execution_count": 128,
   "metadata": {},
   "outputs": [],
   "source": [
    "def most_frequented_subreddits(comments, username):\n",
    "    subreddits = []\n",
    "    for comment in comments:\n",
    "        subreddits.append(comment.subreddit_id)\n",
    "    counter = Counter(subreddits)\n",
    "    most_common = counter.most_common(10)\n",
    "    subs = list(map(lambda x: \"/r/\" + x.display_name, reddit.info(list(list(zip(*most_common))[0]))))\n",
    "    coms = list(zip(*most_common))[1]\n",
    "    plt.subplots(figsize=(18,5))\n",
    "    plt.bar(subs, coms)\n",
    "    plt.title(\"Most frequenly used subreddits for Reddit user /u/{}\".format(username))\n",
    "    plt.xlabel(\"Subreddit\")\n",
    "    plt.ylabel(\"Number of comments\")\n",
    "    plt.savefig(\"subreddits.jpg\")"
   ]
  },
  {
   "cell_type": "markdown",
   "metadata": {},
   "source": [
    "# Most used words"
   ]
  },
  {
   "cell_type": "markdown",
   "metadata": {},
   "source": [
    "Uses [sklearn's CountVectorizer](https://scikit-learn.org/stable/modules/generated/sklearn.feature_extraction.text.CountVectorizer.html) to find the 10 most commonly used words (except stopwords) by the user."
   ]
  },
  {
   "cell_type": "code",
   "execution_count": 282,
   "metadata": {},
   "outputs": [],
   "source": [
    "def most_used_words(comments):\n",
    "    output = \"\"\n",
    "    bodies = []\n",
    "    for comment in comments:\n",
    "        bodies.append(comment.body)\n",
    "    vectorizer = CountVectorizer(strip_accents='unicode', stop_words=stop_words, analyzer='word')\n",
    "    data = vectorizer.fit_transform(bodies)\n",
    "    sum_words = data.sum(axis=0)\n",
    "    words_freq = [(word, sum_words[0, idx]) for idx, word in enumerate(vectorizer.get_feature_names())]\n",
    "    words_freq = sorted(words_freq, key = lambda x: x[1], reverse=True)[:10]\n",
    "    word_agg = \"\"\n",
    "    for word_freq in words_freq:\n",
    "        word_agg += \"{} ({} times), \".format(word_freq[0].capitalize(), word_freq[1])\n",
    "    output += \"|Top 10 most used words:|{}\\n\".format(word_agg[:-2])\n",
    "    return output"
   ]
  },
  {
   "cell_type": "markdown",
   "metadata": {},
   "source": [
    "# Scores analysis"
   ]
  },
  {
   "cell_type": "markdown",
   "metadata": {},
   "source": [
    "Analyzes the scores of the comments of the user to find their best and worst comments, along with their average comment score."
   ]
  },
  {
   "cell_type": "code",
   "execution_count": 297,
   "metadata": {},
   "outputs": [],
   "source": [
    "def analyze_scores(comments):\n",
    "    output = \"\"\n",
    "    scores = []\n",
    "    for comment in comments:\n",
    "        scores.append(comment.score)\n",
    "    best_scores = np.argsort(scores)[::-1]\n",
    "    comment = comments[best_scores[0]]\n",
    "    output += \"|Best comment:|[{}]({}) ({} points, submitted to /r/{})|\\n\".format(comment.body, comment.permalink, comment.score, comment.subreddit.display_name)\n",
    "    comment = comments[best_scores[-1]]\n",
    "    output += \"|Worst comment:|[{}]({}) ({} points, submitted to /r/{})|\\n\".format(comment.body, comment.permalink, comment.score, comment.subreddit.display_name)\n",
    "    output += \"|Average comment score:|{:.2f}|\\n\".format(np.mean(scores))\n",
    "    return output"
   ]
  },
  {
   "cell_type": "markdown",
   "metadata": {},
   "source": [
    "# Merging images"
   ]
  },
  {
   "cell_type": "markdown",
   "metadata": {},
   "source": [
    "Utility to vectically merge a list of images given by filenames. This is used to merge the graphs so that only one image needs to be uploaded to Imgur."
   ]
  },
  {
   "cell_type": "code",
   "execution_count": 284,
   "metadata": {},
   "outputs": [],
   "source": [
    "def merge(filenames, output):\n",
    "    images = list(map(Image.open, filenames))\n",
    "    widths, heights = zip(*(i.size for i in images))\n",
    "    max_width = max(widths)\n",
    "    total_height = sum(heights)\n",
    "    new_im = Image.new('RGB', (max_width, total_height))\n",
    "    y_offset = 0\n",
    "    for im in images:\n",
    "        new_im.paste(im, (0,y_offset))\n",
    "        y_offset += im.size[1]\n",
    "    new_im.save(output)"
   ]
  },
  {
   "cell_type": "markdown",
   "metadata": {},
   "source": [
    "# Uploading image to Imgur"
   ]
  },
  {
   "cell_type": "markdown",
   "metadata": {},
   "source": [
    "Uploads an image using the Imgur the client we created previously."
   ]
  },
  {
   "cell_type": "code",
   "execution_count": 115,
   "metadata": {},
   "outputs": [],
   "source": [
    "def upload(filename):\n",
    "    return client.upload_from_path(filename)['link']"
   ]
  },
  {
   "cell_type": "markdown",
   "metadata": {},
   "source": [
    "# Creating the body of the comment"
   ]
  },
  {
   "cell_type": "markdown",
   "metadata": {},
   "source": [
    "Creates the body of the comment analyzing the user given by username. The graphs are merged and uploaded to Imgur."
   ]
  },
  {
   "cell_type": "code",
   "execution_count": 288,
   "metadata": {},
   "outputs": [],
   "source": [
    "def create_body(username):\n",
    "    body = \"|||\\n|:-|:-|\\n\"\n",
    "    output, comments = get_comments(username)\n",
    "    body += output\n",
    "    body += analyze_scores(comments)\n",
    "    body += most_used_words(comments)\n",
    "    most_frequented_subreddits(comments, username)\n",
    "    plt.close(plt.gcf())\n",
    "    comments_histogram(comments, username)\n",
    "    plt.close(plt.gcf())\n",
    "    daily_comments_histogram(comments, username)\n",
    "    plt.close(plt.gcf())\n",
    "    merge([\"subreddits.jpg\", \"per_week.jpg\", \"hourly.jpg\"], \"merged.jpg\")\n",
    "    body += LDA_comments(comments)\n",
    "    body += \"[Most used subreddits, weekly and hourly graphs]({})\".format(upload(\"merged.jpg\"))\n",
    "    return body"
   ]
  },
  {
   "cell_type": "markdown",
   "metadata": {},
   "source": [
    "# Checking if a Redditor exists"
   ]
  },
  {
   "cell_type": "markdown",
   "metadata": {},
   "source": [
    "Utility to check whether a Redditor exists. No direct way to do that so this is pretty ugly."
   ]
  },
  {
   "cell_type": "code",
   "execution_count": 244,
   "metadata": {},
   "outputs": [],
   "source": [
    "def redditor_exists(name):\n",
    "    try: \n",
    "        reddit.redditor(name).id\n",
    "        return True\n",
    "    except:\n",
    "        return False"
   ]
  },
  {
   "cell_type": "markdown",
   "metadata": {},
   "source": [
    "# Scanning new comments and replying to summons"
   ]
  },
  {
   "cell_type": "markdown",
   "metadata": {},
   "source": [
    "Scans the stream of all new comments to Reddit and looks for the summoning pattern (user-analyzer-bot followed by a username). When the pattern is found, analyzes the given Redditor and replies to the comment with the analysis."
   ]
  },
  {
   "cell_type": "code",
   "execution_count": null,
   "metadata": {},
   "outputs": [
    {
     "name": "stdout",
     "output_type": "stream",
     "text": [
      "Summon by Bibibis found!\n",
      "Replied to request by Bibibis regarding bibibis\n"
     ]
    }
   ],
   "source": [
    "comment_stream = reddit.subreddit('all').stream.comments(pause_after=-1)\n",
    "while(True):\n",
    "    for comment in comment_stream:\n",
    "        if comment is not None and \"user-analyzer-bot\" in comment.body.lower():\n",
    "            print(\"Summon by {} found!\".format(comment.author.name))\n",
    "            body = comment.body.lower().replace('/u/','').replace('u/','').split(' ')\n",
    "            if comment.author is not reddit.user.me():\n",
    "                try:\n",
    "                    index = body.index(\"user-analyzer-bot\")\n",
    "                    if index+1 < len(body):\n",
    "                        username = body[index+1]\n",
    "                        if redditor_exists(username):\n",
    "                            comment.reply(create_body(username))\n",
    "                            print(\"Replied to request by {} regarding {}\".format(comment.author.name, username))\n",
    "                except:\n",
    "                    print(\"Error while trying to reply to summon\")"
   ]
  },
  {
   "cell_type": "markdown",
   "metadata": {},
   "source": [
    "# Analyzing a user inside the Jupyter Notebook"
   ]
  },
  {
   "cell_type": "markdown",
   "metadata": {},
   "source": [
    "Analyzes a Redditor directly in the notebook."
   ]
  },
  {
   "cell_type": "code",
   "execution_count": 144,
   "metadata": {},
   "outputs": [],
   "source": [
    "def analyze(username):\n",
    "    output, comments = get_comments(username)\n",
    "    print(output)\n",
    "    print(LDA_comments(comments))\n",
    "    print(analyze_scores(comments))\n",
    "    print(most_used_words(comments))\n",
    "    most_frequented_subreddits(comments, username)\n",
    "    comments_histogram(comments, username)\n",
    "    daily_comments_histogram(comments, username)\n",
    "    plt.show()"
   ]
  },
  {
   "cell_type": "code",
   "execution_count": 260,
   "metadata": {
    "scrolled": true
   },
   "outputs": [
    {
     "name": "stdout",
     "output_type": "stream",
     "text": [
      "- Number of comments for Bibibis: 991 (max 1000)\n",
      "\n",
      "- Latent Dirichlet Allocation of 654 comments (length > 50):\n",
      "\n",
      "Topic 1: hog, level, tower, send, cards, good, barbs, minion, people, time\n",
      "\n",
      "Topic 2: game, play, get, players, games, every, first, even, 10, free\n",
      "\n",
      "Topic 3: one, rogue, gonna, never, lg, mana, would, get, times, still\n",
      "\n",
      "Topic 4: server, one, fucking, actually, right, game, attack, could, like, entire\n",
      "\n",
      "Topic 5: work, time, client, would, server, actually, still, using, used, op\n",
      "\n",
      "Topic 6: even, give, would, see, card, cards, make, think, half, like\n",
      "\n",
      "\n",
      "\n",
      "- Best comment: \n",
      "\n",
      "When this 90 year old reposter started to submit, the President leaned in and told him this had already been posted hundreds of times. This shitposter submitted, saying \"But Sir, the karma.\" (1454 points, submitted to /r/MURICA)\n",
      "\n",
      "- Worst comment: \n",
      "\n",
      "No way, Americans not understanding anything about football. Who would have thought (-64 points, submitted to /r/LiverpoolFC)\n",
      "\n",
      "- Average comment score: 11.48\n",
      "\n",
      "- Top 10 most used words: Game (124 times), One (103 times), Get (101 times), Even (86 times), Would (79 times), Time (74 times), Play (65 times), Like (64 times), Make (60 times), Server (58 times)\n",
      "\n"
     ]
    },
    {
     "data": {
      "image/png": "[encoded data removed]",
      "text/plain": [
       "<Figure size 1296x360 with 1 Axes>"
      ]
     },
     "metadata": {
      "needs_background": "light"
     },
     "output_type": "display_data"
    },
    {
     "data": {
      "image/png": "[encoded data removed]",
      "text/plain": [
       "<Figure size 1296x360 with 1 Axes>"
      ]
     },
     "metadata": {
      "needs_background": "light"
     },
     "output_type": "display_data"
    },
    {
     "data": {
      "image/png": "[encoded data removed]",
      "text/plain": [
       "<Figure size 1296x360 with 1 Axes>"
      ]
     },
     "metadata": {
      "needs_background": "light"
     },
     "output_type": "display_data"
    }
   ],
   "source": [
    "analyze('Bibibis')"
   ]
  }
 ],
 "metadata": {
  "kernelspec": {
   "display_name": "Python 3",
   "language": "python",
   "name": "python3"
  },
  "language_info": {
   "codemirror_mode": {
    "name": "ipython",
    "version": 3
   },
   "file_extension": ".py",
   "mimetype": "text/x-python",
   "name": "python",
   "nbconvert_exporter": "python",
   "pygments_lexer": "ipython3",
   "version": "3.7.3"
  }
 },
 "nbformat": 4,
 "nbformat_minor": 2
}
